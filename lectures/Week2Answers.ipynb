{
 "cells": [
  {
   "cell_type": "code",
   "execution_count": 1,
   "metadata": {},
   "outputs": [],
   "source": [
    "import matplotlib.pyplot as plt\n",
    "import numpy as np\n",
    "import random\n",
    "import networkx as nx\n"
   ]
  },
  {
   "cell_type": "markdown",
   "metadata": {},
   "source": [
    "# Part 3: Plotting degree distributions"
   ]
  },
  {
   "cell_type": "markdown",
   "metadata": {},
   "source": [
    "#### Binning real numbers\n",
    "\n",
    "*Let's do a gentle start and use the random library generate 5000 data points from a Gaussian distribution with μ=2\n",
    " and σ=0.125*"
   ]
  },
  {
   "cell_type": "code",
   "execution_count": 2,
   "metadata": {},
   "outputs": [],
   "source": [
    "# Set parameters for Gaussian distribution\n",
    "mu = 2\n",
    "sigma = 0.125\n",
    "num_points = 5000\n",
    "\n",
    "# Generate data points\n",
    "data_points = [random.gauss(mu, sigma) for _ in range(num_points)]"
   ]
  },
  {
   "cell_type": "markdown",
   "metadata": {},
   "source": [
    "*Now, let's use numpy.histogram to bin those number into 10 bins. What does the numpy.histogram function return? Do the two arrays have the same length?*"
   ]
  },
  {
   "cell_type": "code",
   "execution_count": 3,
   "metadata": {},
   "outputs": [
    {
     "name": "stdout",
     "output_type": "stream",
     "text": [
      "Counts: [   7   44  312  828 1323 1368  805  248   58    7]\n",
      "Bin edges: [1.53274074 1.62655711 1.72037348 1.81418985 1.90800622 2.00182258\n",
      " 2.09563895 2.18945532 2.28327169 2.37708806 2.47090442]\n"
     ]
    }
   ],
   "source": [
    "import numpy as np\n",
    "\n",
    "# Bin the data points into 10 bins\n",
    "counts, bin_edges = np.histogram(data_points, bins=10)\n",
    "\n",
    "# Print the results\n",
    "print(\"Counts:\", counts)\n",
    "print(\"Bin edges:\", bin_edges)\n"
   ]
  },
  {
   "cell_type": "markdown",
   "metadata": {},
   "source": [
    "counts: An array of length bins, where each value represents the number of data points in each bin.\n",
    "\n",
    "bin_edges: An array of length bins + 1, where each value represents the edges of the bins.\n",
    "\n",
    "So, the two arrays returned by numpy.histogram do not have the same length."
   ]
  },
  {
   "cell_type": "markdown",
   "metadata": {},
   "source": [
    "*Then we use matplotlib.pyplot.plot to plot the binned data. You will have to deal with the fact that the counts- and bin-arrays have different lengths. Explain how you deal with this problem and why.*"
   ]
  },
  {
   "cell_type": "markdown",
   "metadata": {},
   "source": [
    "One common approach is to plot the counts against the bin edges of the bins. For visualization, it is typical to plot the bin edges of the bins except the last one. You can use bin_edges[:-1] for the x-axis and counts for the y-axis."
   ]
  },
  {
   "cell_type": "code",
   "execution_count": 4,
   "metadata": {},
   "outputs": [
    {
     "data": {
      "image/png": "[encoded data removed]",
      "text/plain": [
       "<Figure size 432x288 with 1 Axes>"
      ]
     },
     "metadata": {
      "needs_background": "light"
     },
     "output_type": "display_data"
    }
   ],
   "source": [
    "# Plot the histogram\n",
    "plt.plot(bin_edges[:-1], counts, marker='o', linestyle='-')\n",
    "\n",
    "# Add labels and title\n",
    "plt.xlabel('Bin edges')\n",
    "plt.ylabel('Counts')\n",
    "plt.title('Histogram of Data Points')\n",
    "\n",
    "# Show the plot\n",
    "plt.show()"
   ]
  },
  {
   "cell_type": "markdown",
   "metadata": {},
   "source": [
    "#### Binning integers\n",
    "*But binning real numbers into a fixed number of bins is easy when numpy.histogram does all the work and finds the right bin boundaries for you.*"
   ]
  },
  {
   "cell_type": "markdown",
   "metadata": {},
   "source": [
    "*Now we'll generate a bunch of integers and set the bin boundaries manually. This time, let's grab data from a Poisson distribution. As it turns out numpy also has some convenient random number generators. Use numpy.random.poisson to generate 5000 numbers drawn from a Poisson distribution characterized by λ=10*\n",
    "* Find the maximum and minimum value of your 5000 random numbers."
   ]
  },
  {
   "cell_type": "code",
   "execution_count": 5,
   "metadata": {},
   "outputs": [
    {
     "name": "stdout",
     "output_type": "stream",
     "text": [
      "Maximum value: 23\n",
      "Minimum value: 1\n"
     ]
    }
   ],
   "source": [
    "# Set the parameter for Poisson distribution\n",
    "lambda_ = 10\n",
    "num_points = 5000\n",
    "\n",
    "# Generate data points\n",
    "poisson_data = np.random.poisson(lambda_, num_points)\n",
    "\n",
    "# Find the maximum and minimum values\n",
    "max_value = np.max(poisson_data)\n",
    "min_value = np.min(poisson_data)\n",
    "\n",
    "# Print the results\n",
    "print(\"Maximum value:\", max_value)\n",
    "print(\"Minimum value:\", min_value)"
   ]
  },
  {
   "cell_type": "markdown",
   "metadata": {},
   "source": [
    "*Instead of simply specifying the number of bins for numpy.histogram, let's specify the bins we want using a vector.*\n",
    "\n",
    "*Create a vector v that results in a binning that puts each integer value in its own bin and where the first bin contains the minimum number you found above, and the last bin contains the maximum number. Use the vector by setting numpy.histogram's bin parameter as bin = v*\n",
    "* What is the sum over bin counts? Explain how the binning-vectors first and last element relates to the min and max from the Poisson distribution."
   ]
  },
  {
   "cell_type": "code",
   "execution_count": 6,
   "metadata": {},
   "outputs": [
    {
     "name": "stdout",
     "output_type": "stream",
     "text": [
      "Sum over bin counts: 5000\n"
     ]
    }
   ],
   "source": [
    "# Create the bin edges vector\n",
    "bin_edges = np.arange(min_value, max_value + 2)  # +2 to include max_value in the last bin\n",
    "\n",
    "# Bin the data using the custom bin edges\n",
    "counts, _ = np.histogram(poisson_data, bins=bin_edges)\n",
    "\n",
    "# Print the sum of bin counts\n",
    "print(\"Sum over bin counts:\", np.sum(counts))"
   ]
  },
  {
   "cell_type": "markdown",
   "metadata": {},
   "source": [
    "* The first element of bin_edges is equal to the minimum value from the Poisson distribution.\n",
    "* The last element of bin_edges is one more than the maximum value from the Poisson distribution. This extra value ensures that the maximum value is included in the last bin."
   ]
  },
  {
   "cell_type": "markdown",
   "metadata": {},
   "source": [
    "*Now, use a bar chart (matplotlib.pyplot.bar) to plot the distribution*"
   ]
  },
  {
   "cell_type": "code",
   "execution_count": 7,
   "metadata": {},
   "outputs": [
    {
     "data": {
      "image/png": "[encoded data removed]",
      "text/plain": [
       "<Figure size 432x288 with 1 Axes>"
      ]
     },
     "metadata": {
      "needs_background": "light"
     },
     "output_type": "display_data"
    }
   ],
   "source": [
    "# Plot the histogram as a bar chart\n",
    "plt.bar(bin_edges[:-1], counts, width=1.0, edgecolor='black')\n",
    "\n",
    "# Add labels and title\n",
    "plt.xlabel('Value')\n",
    "plt.ylabel('Frequency')\n",
    "plt.title('Distribution of Poisson-Distributed Data')\n",
    "\n",
    "# Show the plot\n",
    "plt.show()\n"
   ]
  },
  {
   "cell_type": "markdown",
   "metadata": {},
   "source": [
    "bin_edges[:-1]: The x-values for the bars. Each bar is centered on each integer value."
   ]
  },
  {
   "cell_type": "markdown",
   "metadata": {},
   "source": [
    "#### Binning and plotting degree distributions.\n",
    "*Let's generate the Erdös-Renyi (ER) network which has a degree distribution that matches the Poisson distribution above.*\n",
    "\n",
    "*First we have to figure out which values the ER parameters (N and p) should assume. It's easy to see that N=5000, but how do you find p?*\n",
    "\n",
    "*Hint: The parameter λ in the Poisson distribution corresponds to the average degree, so you have to find a p that results in an average degree, k=10*\n",
    "* *And you know that ⟨k⟩=p(N−1), which will give you p*\n",
    "\n"
   ]
  },
  {
   "cell_type": "markdown",
   "metadata": {},
   "source": [
    "We then know that p = k/(N-1), then p = 10/(5000-1) = 0.002"
   ]
  },
  {
   "cell_type": "markdown",
   "metadata": {},
   "source": [
    "*Now, use networkx to create the graph and extract the degree distribution.*\n",
    "* *Finally, create a nice bar plot of the degree distribution, including axes labels and a plot title. Make sure that it looks like the Poisson distribution you plotted above.*"
   ]
  },
  {
   "cell_type": "code",
   "execution_count": 9,
   "metadata": {},
   "outputs": [
    {
     "data": {
      "image/png": "[encoded data removed]",
      "text/plain": [
       "<Figure size 432x288 with 1 Axes>"
      ]
     },
     "metadata": {
      "needs_background": "light"
     },
     "output_type": "display_data"
    }
   ],
   "source": [
    "# Parameters\n",
    "N = 5000\n",
    "p = 10 / (N - 1)\n",
    "\n",
    "# Generate the ER network\n",
    "G = nx.erdos_renyi_graph(N, p)\n",
    "\n",
    "# Get the degree sequence\n",
    "degree_sequence = [degree for _, degree in G.degree()]\n",
    "\n",
    "# Plot the degree distribution\n",
    "plt.hist(degree_sequence, bins=range(min(degree_sequence), max(degree_sequence) + 2), edgecolor='black')\n",
    "plt.xlabel('Degree')\n",
    "plt.ylabel('Frequency')\n",
    "plt.title('Degree Distribution of ER Network')\n",
    "plt.show()"
   ]
  },
  {
   "cell_type": "markdown",
   "metadata": {},
   "source": []
  },
  {
   "cell_type": "code",
   "execution_count": null,
   "metadata": {},
   "outputs": [],
   "source": []
  }
 ],
 "metadata": {
  "kernelspec": {
   "display_name": "course02502",
   "language": "python",
   "name": "course02502"
  },
  "language_info": {
   "codemirror_mode": {
    "name": "ipython",
    "version": 3
   },
   "file_extension": ".py",
   "mimetype": "text/x-python",
   "name": "python",
   "nbconvert_exporter": "python",
   "pygments_lexer": "ipython3",
   "version": "3.8.5"
  }
 },
 "nbformat": 4,
 "nbformat_minor": 2
}
