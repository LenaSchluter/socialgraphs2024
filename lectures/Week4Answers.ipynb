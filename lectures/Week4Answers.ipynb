{
 "cells": [
  {
   "cell_type": "code",
   "execution_count": null,
   "metadata": {},
   "outputs": [],
   "source": []
  },
  {
   "cell_type": "markdown",
   "metadata": {},
   "source": [
    "Now, explain in your own words: what are regular expressions?\n",
    "* characters that define search patterns, primarily used for string matching and manipulation. They provide a powerful way to find specific patterns of text in a body of text, such as locating words, numbers, or even complex combinations of characters. (CHAT GBT)"
   ]
  },
  {
   "cell_type": "markdown",
   "metadata": {},
   "source": [
    "Provide an example of a regex to match 4 digits numbers (by this, I mean precisely 4 digits, you should not match any part of numbers with e.g. 5 digits). In your notebook, use findall to show that your regex works on this test-text. Hint: a great place to test out regular expressions is: https://regex101.com.\n",
    "\n",
    "* re.search(r'\\b\\d{4}\\b',str)\n",
    "\n",
    "* \\b is a word boundary\n"
   ]
  },
  {
   "cell_type": "code",
   "execution_count": 4,
   "metadata": {},
   "outputs": [
    {
     "name": "stdout",
     "output_type": "stream",
     "text": [
      "['1234', '9999']\n"
     ]
    }
   ],
   "source": [
    "import re\n",
    "\n",
    "with open('regex_exercise.txt', 'r') as file:\n",
    "    text_from_file = file.read()\n",
    "\n",
    "# Apply the regex to find all 4-digit numbers\n",
    "four_digit_numbers_from_file = re.findall(r'\\b\\d{4}\\b', text_from_file)\n",
    "\n",
    "# Print the result\n",
    "print(four_digit_numbers_from_file)"
   ]
  },
  {
   "cell_type": "markdown",
   "metadata": {},
   "source": [
    "Provide an example of a regex to match words starting with \"super\". Show that it works on the test-text.\n",
    "* re.findall(r'\\bsuper\\w*', text_from_file)\n",
    "* \\w* Matches zero or more word characters (letters, digits, or underscores) that follow \"super\", thus capturing the full word.\n",
    "* thereby it is not just the stand-alone word 'super', but words that START with super\n"
   ]
  },
  {
   "cell_type": "code",
   "execution_count": 6,
   "metadata": {},
   "outputs": [
    {
     "name": "stdout",
     "output_type": "stream",
     "text": [
      "['superpolaroid', 'supertaxidermy', 'superbeer']\n"
     ]
    }
   ],
   "source": [
    "four_digit_numbers_from_file = re.findall(r'\\bsuper\\w*', text_from_file)\n",
    "\n",
    "# Print the result\n",
    "print(four_digit_numbers_from_file)"
   ]
  },
  {
   "cell_type": "markdown",
   "metadata": {},
   "source": [
    "Exercise: Regular expressions round 2. Show that you can extract the wiki-links from the test-text. Perhaps you can find inspiration on stack overflow or similar. Hint: Try to solve this exercise on your own (that's what you will get the most out of - learning wise), but if you get stuck ... you will find the solution in one of the video lectures below."
   ]
  },
  {
   "cell_type": "code",
   "execution_count": null,
   "metadata": {},
   "outputs": [],
   "source": []
  },
  {
   "cell_type": "markdown",
   "metadata": {},
   "source": []
  }
 ],
 "metadata": {
  "kernelspec": {
   "display_name": "course02502",
   "language": "python",
   "name": "course02502"
  },
  "language_info": {
   "codemirror_mode": {
    "name": "ipython",
    "version": 3
   },
   "file_extension": ".py",
   "mimetype": "text/x-python",
   "name": "python",
   "nbconvert_exporter": "python",
   "pygments_lexer": "ipython3",
   "version": "3.8.5"
  }
 },
 "nbformat": 4,
 "nbformat_minor": 2
}
